{
 "cells": [
  {
   "cell_type": "code",
   "execution_count": 2,
   "metadata": {},
   "outputs": [],
   "source": [
    "import time\n",
    "from datetime import datetime\n",
    "seconds_since_epoch = time.time() #1469182681.709\n",
    "\n",
    "utc_date = datetime.utcfromtimestamp(seconds_since_epoch)\n",
    "#datetime.datetime(2020,9,23,5,23)"
   ]
  },
  {
   "cell_type": "code",
   "execution_count": 3,
   "metadata": {},
   "outputs": [
    {
     "data": {
      "text/plain": [
       "datetime.datetime(2020, 9, 23, 2, 24, 12, 958741)"
      ]
     },
     "execution_count": 3,
     "metadata": {},
     "output_type": "execute_result"
    }
   ],
   "source": [
    "utc_date"
   ]
  },
  {
   "cell_type": "code",
   "execution_count": 5,
   "metadata": {},
   "outputs": [],
   "source": [
    "import calendar\n",
    "from datetime import date\n",
    "def monthdelta(date, delta):\n",
    "    m, y = (date.month+delta) % 12, date.year + ((date.month)+delta-1) // 12\n",
    "    if not m: m = 12\n",
    "    d = min(date.day, calendar.monthrange(y, m)[1])\n",
    "    return date.replace(day=d, month=m, year=y)\n",
    "\n",
    "next_month = monthdelta(date.today(), 1) #datetime.date(2020,10,23)"
   ]
  },
  {
   "cell_type": "code",
   "execution_count": 6,
   "metadata": {},
   "outputs": [
    {
     "data": {
      "text/plain": [
       "datetime.date(2020, 10, 23)"
      ]
     },
     "execution_count": 6,
     "metadata": {},
     "output_type": "execute_result"
    }
   ],
   "source": [
    "next_month"
   ]
  },
  {
   "cell_type": "code",
   "execution_count": 7,
   "metadata": {},
   "outputs": [],
   "source": [
    "import datetime\n",
    "import dateutil.relativedelta\n",
    "\n",
    "d = datetime.datetime.strptime(\"2020-2-28\", \"%Y-%m-%d\")\n",
    "d2 = d - dateutil.relativedelta.relativedelta(months=1) #datetime.datetime(2020,3,28,0,0)"
   ]
  },
  {
   "cell_type": "code",
   "execution_count": 8,
   "metadata": {},
   "outputs": [
    {
     "data": {
      "text/plain": [
       "datetime.datetime(2020, 1, 28, 0, 0)"
      ]
     },
     "execution_count": 8,
     "metadata": {},
     "output_type": "execute_result"
    }
   ],
   "source": [
    "d2\n"
   ]
  },
  {
   "cell_type": "code",
   "execution_count": 9,
   "metadata": {},
   "outputs": [
    {
     "name": "stdout",
     "output_type": "stream",
     "text": [
      "21.7 µs ± 165 ns per loop (mean ± std. dev. of 7 runs, 10000 loops each)\n"
     ]
    }
   ],
   "source": [
    "#performance calculation\n",
    "%timeit d2 = d - dateutil.relativedelta.relativedelta(months=1)"
   ]
  },
  {
   "cell_type": "code",
   "execution_count": 10,
   "metadata": {},
   "outputs": [
    {
     "name": "stdout",
     "output_type": "stream",
     "text": [
      "4.54 µs ± 21.4 ns per loop (mean ± std. dev. of 7 runs, 100000 loops each)\n"
     ]
    }
   ],
   "source": [
    "%timeit next_month = monthdelta(date.today(), 1)"
   ]
  },
  {
   "cell_type": "code",
   "execution_count": 11,
   "metadata": {},
   "outputs": [
    {
     "data": {
      "text/plain": [
       "'2020-07-22 09:25:59.555555'"
      ]
     },
     "execution_count": 11,
     "metadata": {},
     "output_type": "execute_result"
    }
   ],
   "source": [
    "str(datetime.datetime(2020,7,22,9,25,59,555555))\n",
    "# '2020-07-22 09:25:59.555555'"
   ]
  },
  {
   "cell_type": "code",
   "execution_count": null,
   "metadata": {},
   "outputs": [],
   "source": [
    "import sys\n",
    "!conda install --yes"
   ]
  },
  {
   "cell_type": "code",
   "execution_count": 16,
   "metadata": {},
   "outputs": [
    {
     "ename": "ModuleNotFoundError",
     "evalue": "No module named 'iso8601'",
     "output_type": "error",
     "traceback": [
      "\u001b[1;31m---------------------------------------------------------------------------\u001b[0m",
      "\u001b[1;31mModuleNotFoundError\u001b[0m                       Traceback (most recent call last)",
      "\u001b[1;32m<ipython-input-16-9c2b03f66521>\u001b[0m in \u001b[0;36m<module>\u001b[1;34m\u001b[0m\n\u001b[1;32m----> 1\u001b[1;33m \u001b[1;32mimport\u001b[0m \u001b[0miso8601\u001b[0m\u001b[1;33m\u001b[0m\u001b[1;33m\u001b[0m\u001b[0m\n\u001b[0m\u001b[0;32m      2\u001b[0m \u001b[0miso8601\u001b[0m\u001b[1;33m.\u001b[0m\u001b[0mparse_date\u001b[0m\u001b[1;33m(\u001b[0m\u001b[1;34m'2020-07-22 09:25:59'\u001b[0m\u001b[1;33m)\u001b[0m\u001b[1;33m\u001b[0m\u001b[1;33m\u001b[0m\u001b[0m\n\u001b[0;32m      3\u001b[0m \u001b[1;31m# datetime.datetime(2020,7,22,9,25,59)\u001b[0m\u001b[1;33m\u001b[0m\u001b[1;33m\u001b[0m\u001b[1;33m\u001b[0m\u001b[0m\n\u001b[0;32m      4\u001b[0m \u001b[0miso8601\u001b[0m\u001b[1;33m.\u001b[0m\u001b[0mparse_date\u001b[0m\u001b[1;33m(\u001b[0m\u001b[1;34m'2020-07-22 09:25:59+03:00'\u001b[0m\u001b[1;33m)\u001b[0m\u001b[1;33m\u001b[0m\u001b[1;33m\u001b[0m\u001b[0m\n\u001b[0;32m      5\u001b[0m \u001b[1;31m# datetime.datetime(2020,7,22,9,25,59, tzinfo=<FixedOffset '+03:00' ...>)\u001b[0m\u001b[1;33m\u001b[0m\u001b[1;33m\u001b[0m\u001b[1;33m\u001b[0m\u001b[0m\n",
      "\u001b[1;31mModuleNotFoundError\u001b[0m: No module named 'iso8601'"
     ]
    }
   ],
   "source": [
    "import iso8601\n",
    "iso8601.parse_date('2020-07-22 09:25:59')\n",
    "# datetime.datetime(2020,7,22,9,25,59)\n",
    "iso8601.parse_date('2020-07-22 09:25:59+03:00')\n",
    "# datetime.datetime(2020,7,22,9,25,59, tzinfo=<FixedOffset '+03:00' ...>)\n"
   ]
  },
  {
   "cell_type": "code",
   "execution_count": 14,
   "metadata": {},
   "outputs": [
    {
     "name": "stdout",
     "output_type": "stream",
     "text": [
      "Oyuncu Kaydetme Programı\n",
      "Oyuncunun Adı:123\n",
      "Oyuncunun Soyadı:123\n",
      "Oyuncunu Takımı:123\n",
      "Bilgiler Kaydediliyor...\n",
      "Oyuncu Adı: 123\n",
      "Oyuncu Soyadı: 123\n",
      "Oyuncunun Takımı: 123\n",
      "\n",
      "Bilgiler Kaydedildi...\n"
     ]
    }
   ],
   "source": []
  },
  {
   "cell_type": "code",
   "execution_count": 19,
   "metadata": {},
   "outputs": [
    {
     "data": {
      "text/plain": [
       "[1, 2, 3]"
      ]
     },
     "execution_count": 19,
     "metadata": {},
     "output_type": "execute_result"
    }
   ],
   "source": [
    "triangle = []\n",
    "triangle = [1,2,3]\n",
    "triangle"
   ]
  },
  {
   "cell_type": "code",
   "execution_count": 20,
   "metadata": {},
   "outputs": [],
   "source": [
    "triangle = triangle + [3,2,3]"
   ]
  },
  {
   "cell_type": "code",
   "execution_count": 21,
   "metadata": {},
   "outputs": [
    {
     "data": {
      "text/plain": [
       "[1, 2, 3, 3, 2, 3]"
      ]
     },
     "execution_count": 21,
     "metadata": {},
     "output_type": "execute_result"
    }
   ],
   "source": [
    "triangle\n"
   ]
  },
  {
   "cell_type": "code",
   "execution_count": 22,
   "metadata": {},
   "outputs": [
    {
     "data": {
      "text/plain": [
       "{1, 2, 3}"
      ]
     },
     "execution_count": 22,
     "metadata": {},
     "output_type": "execute_result"
    }
   ],
   "source": [
    "set(triangle)"
   ]
  },
  {
   "cell_type": "code",
   "execution_count": 23,
   "metadata": {},
   "outputs": [],
   "source": [
    "triangle = { 2,2,3}"
   ]
  },
  {
   "cell_type": "code",
   "execution_count": 24,
   "metadata": {},
   "outputs": [
    {
     "data": {
      "text/plain": [
       "{2, 3}"
      ]
     },
     "execution_count": 24,
     "metadata": {},
     "output_type": "execute_result"
    }
   ],
   "source": [
    "triangle"
   ]
  },
  {
   "cell_type": "code",
   "execution_count": 25,
   "metadata": {},
   "outputs": [],
   "source": [
    "triangle = [[]]"
   ]
  },
  {
   "cell_type": "code",
   "execution_count": 26,
   "metadata": {},
   "outputs": [
    {
     "data": {
      "text/plain": [
       "[[]]"
      ]
     },
     "execution_count": 26,
     "metadata": {},
     "output_type": "execute_result"
    }
   ],
   "source": [
    "triangle\n"
   ]
  },
  {
   "cell_type": "code",
   "execution_count": 28,
   "metadata": {},
   "outputs": [],
   "source": [
    "triangle[0] = [2,2,3]"
   ]
  },
  {
   "cell_type": "code",
   "execution_count": 29,
   "metadata": {},
   "outputs": [
    {
     "data": {
      "text/plain": [
       "[[2, 2, 3]]"
      ]
     },
     "execution_count": 29,
     "metadata": {},
     "output_type": "execute_result"
    }
   ],
   "source": [
    "triangle"
   ]
  },
  {
   "cell_type": "code",
   "execution_count": 30,
   "metadata": {},
   "outputs": [
    {
     "data": {
      "text/plain": [
       "False"
      ]
     },
     "execution_count": 30,
     "metadata": {},
     "output_type": "execute_result"
    }
   ],
   "source": [
    "[2,3,2] in triangle"
   ]
  },
  {
   "cell_type": "code",
   "execution_count": 31,
   "metadata": {},
   "outputs": [
    {
     "data": {
      "text/plain": [
       "False"
      ]
     },
     "execution_count": 31,
     "metadata": {},
     "output_type": "execute_result"
    }
   ],
   "source": [
    "[2,3,2].sort() in triangle"
   ]
  },
  {
   "cell_type": "code",
   "execution_count": 40,
   "metadata": {},
   "outputs": [],
   "source": [
    "triangle[0].sort()"
   ]
  },
  {
   "cell_type": "code",
   "execution_count": 41,
   "metadata": {},
   "outputs": [
    {
     "data": {
      "text/plain": [
       "[2, 2, 3]"
      ]
     },
     "execution_count": 41,
     "metadata": {},
     "output_type": "execute_result"
    }
   ],
   "source": [
    "triangle[0]"
   ]
  },
  {
   "cell_type": "code",
   "execution_count": 49,
   "metadata": {},
   "outputs": [],
   "source": [
    "a = [2,3,2]\n",
    "triangle.append(a.sort())"
   ]
  },
  {
   "cell_type": "code",
   "execution_count": 50,
   "metadata": {},
   "outputs": [
    {
     "data": {
      "text/plain": [
       "[[2, 2, 3], None, None]"
      ]
     },
     "execution_count": 50,
     "metadata": {},
     "output_type": "execute_result"
    }
   ],
   "source": [
    "triangle"
   ]
  },
  {
   "cell_type": "code",
   "execution_count": 51,
   "metadata": {},
   "outputs": [],
   "source": [
    "a = set({2,2,3})"
   ]
  },
  {
   "cell_type": "code",
   "execution_count": 52,
   "metadata": {},
   "outputs": [
    {
     "ename": "NameError",
     "evalue": "name 'A' is not defined",
     "output_type": "error",
     "traceback": [
      "\u001b[1;31m---------------------------------------------------------------------------\u001b[0m",
      "\u001b[1;31mNameError\u001b[0m                                 Traceback (most recent call last)",
      "\u001b[1;32m<ipython-input-52-7d157d7c000a>\u001b[0m in \u001b[0;36m<module>\u001b[1;34m\u001b[0m\n\u001b[1;32m----> 1\u001b[1;33m \u001b[0mA\u001b[0m\u001b[1;33m\u001b[0m\u001b[1;33m\u001b[0m\u001b[0m\n\u001b[0m",
      "\u001b[1;31mNameError\u001b[0m: name 'A' is not defined"
     ]
    }
   ],
   "source": [
    "A"
   ]
  },
  {
   "cell_type": "code",
   "execution_count": 53,
   "metadata": {},
   "outputs": [
    {
     "data": {
      "text/plain": [
       "{2, 3}"
      ]
     },
     "execution_count": 53,
     "metadata": {},
     "output_type": "execute_result"
    }
   ],
   "source": [
    "a"
   ]
  },
  {
   "cell_type": "code",
   "execution_count": 54,
   "metadata": {},
   "outputs": [
    {
     "ename": "TypeError",
     "evalue": "unhashable type: 'set'",
     "output_type": "error",
     "traceback": [
      "\u001b[1;31m---------------------------------------------------------------------------\u001b[0m",
      "\u001b[1;31mTypeError\u001b[0m                                 Traceback (most recent call last)",
      "\u001b[1;32m<ipython-input-54-68787d7bf6b6>\u001b[0m in \u001b[0;36m<module>\u001b[1;34m\u001b[0m\n\u001b[1;32m----> 1\u001b[1;33m \u001b[0ma\u001b[0m \u001b[1;33m=\u001b[0m \u001b[1;33m{\u001b[0m\u001b[1;33m{\u001b[0m\u001b[1;36m2\u001b[0m\u001b[1;33m,\u001b[0m\u001b[1;36m2\u001b[0m\u001b[1;33m,\u001b[0m\u001b[1;36m3\u001b[0m\u001b[1;33m}\u001b[0m\u001b[1;33m}\u001b[0m\u001b[1;33m\u001b[0m\u001b[1;33m\u001b[0m\u001b[0m\n\u001b[0m",
      "\u001b[1;31mTypeError\u001b[0m: unhashable type: 'set'"
     ]
    }
   ],
   "source": [
    "a = {{2,2,3}}"
   ]
  },
  {
   "cell_type": "code",
   "execution_count": 55,
   "metadata": {},
   "outputs": [
    {
     "ename": "TypeError",
     "evalue": "unhashable type: 'set'",
     "output_type": "error",
     "traceback": [
      "\u001b[1;31m---------------------------------------------------------------------------\u001b[0m",
      "\u001b[1;31mTypeError\u001b[0m                                 Traceback (most recent call last)",
      "\u001b[1;32m<ipython-input-55-b51ea64f5c02>\u001b[0m in \u001b[0;36m<module>\u001b[1;34m\u001b[0m\n\u001b[1;32m----> 1\u001b[1;33m \u001b[0mb\u001b[0m \u001b[1;33m=\u001b[0m \u001b[1;33m{\u001b[0m\u001b[1;33m{\u001b[0m\u001b[1;36m2\u001b[0m\u001b[1;33m,\u001b[0m\u001b[1;36m3\u001b[0m\u001b[1;33m,\u001b[0m\u001b[1;36m3\u001b[0m\u001b[1;33m}\u001b[0m\u001b[1;33m}\u001b[0m\u001b[1;33m\u001b[0m\u001b[1;33m\u001b[0m\u001b[0m\n\u001b[0m",
      "\u001b[1;31mTypeError\u001b[0m: unhashable type: 'set'"
     ]
    }
   ],
   "source": [
    "b = {{2,3,3}}"
   ]
  },
  {
   "cell_type": "code",
   "execution_count": 60,
   "metadata": {},
   "outputs": [
    {
     "name": "stdout",
     "output_type": "stream",
     "text": [
      "[2, 2, 3]\n",
      "True\n"
     ]
    }
   ],
   "source": [
    "\n",
    "a = [2,2,3]\n",
    "b.append(a)\n",
    "c = [2,3,2]\n",
    "c= sorted(c)\n",
    "print(c)\n",
    "print(c in b)"
   ]
  },
  {
   "cell_type": "code",
   "execution_count": 35,
   "metadata": {},
   "outputs": [
    {
     "name": "stdout",
     "output_type": "stream",
     "text": [
      "[1, 6, 8, 10, 15, 18]\n",
      "[[1, 6]]\n",
      "[[1, 6], [8, 10]]\n",
      "[[1, 6], [8, 10], [15, 18]]\n",
      "[[1, 6], [8, 10], [15, 18]]\n"
     ]
    }
   ],
   "source": [
    "def birlestir(toplantiSaatleri=[[1,3],[2,6],[8,10],[15,18]]):\n",
    "    new = []\n",
    "    toplanti = []\n",
    "    for a in toplantiSaatleri:\n",
    "        for b in a:\n",
    "            new.append(b)\n",
    "    #print(new)\n",
    "    for ind,a in enumerate(new, start=0):\n",
    "        #print(new[ind])\n",
    "        if len(new) != ind+1:\n",
    "            if a >= new[ind+1]:\n",
    "                new.pop(ind)\n",
    "                new.pop(ind)\n",
    "    print(new)\n",
    "    while len(new) > 0:\n",
    "        toplanti.append([new.pop(0),new.pop(0)])\n",
    "        print(toplanti)\n",
    "    print(toplanti)\n",
    "            \n",
    "            \n",
    "birlestir()"
   ]
  },
  {
   "cell_type": "code",
   "execution_count": 120,
   "metadata": {},
   "outputs": [
    {
     "name": "stdout",
     "output_type": "stream",
     "text": [
      "z 4 1\n",
      "[1, 3] [2, 6]\n",
      "[1, 6]\n",
      "z 4 2\n",
      "z 4 3\n",
      "y [8, 10] [15, 18] [1]\n",
      "[[1, 6], [8, 10]]\n"
     ]
    }
   ],
   "source": [
    "def birlestir(toplantiSaatleri=[[1,3],[2,6],[8,10],[15,18]]):\n",
    "    new = []\n",
    "    toplanti = []\n",
    "    pass_index = []\n",
    "    for index_a,a in enumerate(toplantiSaatleri,start=0):\n",
    "        for index_b,b in enumerate(toplantiSaatleri,start=0):\n",
    "            if index_a != index_b and index_a + 1 == index_b:\n",
    "                print(\"z\",len(toplantiSaatleri),index_b)\n",
    "                if a[1] >= b[0]: \n",
    "                    print(a,b)\n",
    "                    c = [a[0],b[1]]\n",
    "                    print(c)\n",
    "                    new.append(c)\n",
    "                    pass_index.append(index_b)\n",
    "                elif index_a == 0 and index_a not in pass_index: \n",
    "                    print(\"x\",a,b)\n",
    "                    new.append(a)\n",
    "                elif index_a not in pass_index and len(toplantiSaatleri) != index_b: \n",
    "                    print(\"y\",a,b,pass_index)\n",
    "                    new.append(a)\n",
    "                elif len(toplantiSaatleri) == index_b+1:\n",
    "                    print(\"z\",len(toplantiSaatleri))\n",
    "                    new.append(a)\n",
    "                    new.append(b)\n",
    "\n",
    "    print(new)\n",
    "            \n",
    "            \n",
    "birlestir()"
   ]
  },
  {
   "cell_type": "code",
   "execution_count": null,
   "metadata": {},
   "outputs": [],
   "source": [
    "def birlestir(toplantiSaatleri=[[1,3],[2,6],[8,10],[15,18]]):\n",
    "    new = []\n",
    "    toplanti = []\n",
    "    pass_index = []\n",
    "    for index_a,a in enumerate(toplantiSaatleri,start=1):\n",
    "        for index_b,b in enumerate(toplantiSaatleri,start=1):\n",
    "            if index_a != index_b and index_a + 1 == index_b:\n",
    "                if index_a not in pass_index:\n",
    "                    if sorted(a+b) != a+b:\n",
    "                        new.append([a[0],b[1]])\n",
    "                        pass_index.append(index_b)\n",
    "                    elif len(toplantiSaatleri)!=index_b:\n",
    "                        new.append(a)\n",
    "                    else:\n",
    "                        new.append(a)\n",
    "                        new.append(b)\n",
    "                \n",
    "\n",
    "    return birlestir(new)\n",
    "print(birlestir())"
   ]
  },
  {
   "cell_type": "code",
   "execution_count": 2,
   "metadata": {},
   "outputs": [
    {
     "data": {
      "text/plain": [
       "[1, 6]"
      ]
     },
     "execution_count": 2,
     "metadata": {},
     "output_type": "execute_result"
    }
   ],
   "source": [
    "max([[1,6]])\n"
   ]
  },
  {
   "cell_type": "code",
   "execution_count": 7,
   "metadata": {},
   "outputs": [
    {
     "data": {
      "text/plain": [
       "6"
      ]
     },
     "execution_count": 7,
     "metadata": {},
     "output_type": "execute_result"
    }
   ],
   "source": [
    "[1,3,2,6].pop(3)"
   ]
  },
  {
   "cell_type": "code",
   "execution_count": 80,
   "metadata": {},
   "outputs": [],
   "source": [
    "a=[\"sahibinden\",\"sahibindne\",\"sifir\",\"siifr\",\"kiralik\",\"kilarik\",\"sat\",\"kat\"]"
   ]
  },
  {
   "cell_type": "code",
   "execution_count": 81,
   "metadata": {},
   "outputs": [
    {
     "name": "stdout",
     "output_type": "stream",
     "text": [
      "kat sat\n",
      "['a', 'k', 't'] ['a', 's', 't']\n",
      "kilarik kiralik\n",
      "['a', 'i', 'i', 'k', 'k', 'l', 'r'] ['a', 'i', 'i', 'k', 'k', 'l', 'r']\n",
      "siifr sifir\n",
      "['f', 'i', 'i', 'r', 's'] ['f', 'i', 'i', 'r', 's']\n",
      "sahibindne sahibinden\n",
      "['a', 'b', 'd', 'e', 'h', 'i', 'i', 'n', 'n', 's'] ['a', 'b', 'd', 'e', 'h', 'i', 'i', 'n', 'n', 's']\n",
      "[['sahibinden', 'sahibindne'], ['sifir', 'siifr'], ['kiralik', 'kilarik'], ['kat']]\n"
     ]
    }
   ],
   "source": [
    "c = []\n",
    "wlist = []\n",
    "while len(a) > 0:\n",
    "    p1 = a.pop()\n",
    "    p2 = a.pop()\n",
    "    print(p1,p2)\n",
    "    sp1 = sorted(p1)\n",
    "    sp2 = sorted(p2)\n",
    "    print(sp1,sp2)\n",
    "    if sp1 == sp2:\n",
    "        wlist.append([p2,p1])\n",
    "    elif p1 not in wlist:\n",
    "        wlist.append([p1])\n",
    "    elif p2 not in wlist:\n",
    "        wlist.append([p2])\n",
    "\n",
    "print(wlist[::-1])"
   ]
  },
  {
   "cell_type": "code",
   "execution_count": null,
   "metadata": {},
   "outputs": [],
   "source": []
  }
 ],
 "metadata": {
  "kernelspec": {
   "display_name": "Python 3",
   "language": "python",
   "name": "python3"
  },
  "language_info": {
   "codemirror_mode": {
    "name": "ipython",
    "version": 3
   },
   "file_extension": ".py",
   "mimetype": "text/x-python",
   "name": "python",
   "nbconvert_exporter": "python",
   "pygments_lexer": "ipython3",
   "version": "3.8.3"
  }
 },
 "nbformat": 4,
 "nbformat_minor": 4
}
