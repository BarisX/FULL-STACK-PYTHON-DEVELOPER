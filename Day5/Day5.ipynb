{
 "cells": [
  {
   "cell_type": "code",
   "execution_count": 1,
   "metadata": {},
   "outputs": [
    {
     "name": "stdout",
     "output_type": "stream",
     "text": [
      "[123, 'abcd', 10.2, 'd']\n",
      "[123, 'abcd']\n",
      "['hello', 'world', 'hello', 'world']\n",
      "[123, 'abcd', 10.2, 'd', 'hello', 'world']\n"
     ]
    }
   ],
   "source": [
    "list= [123,'abcd',10.2,'d']\n",
    "list1 = ['hello','world']\n",
    "print(list)\n",
    "print(list[0:2])\n",
    "print(list1 * 2)\n",
    "print(list + list1)"
   ]
  },
  {
   "cell_type": "code",
   "execution_count": 2,
   "metadata": {},
   "outputs": [
    {
     "name": "stdout",
     "output_type": "stream",
     "text": [
      "{'name': 'red', 'age': 10}\n",
      "red\n",
      "dict_values(['red', 10])\n",
      "dict_keys(['name', 'age'])\n"
     ]
    }
   ],
   "source": [
    "# dictionary type\n",
    "dic = {'name':'red','age':10}\n",
    "print(dic)\n",
    "print(dic['name'])\n",
    "print(dic.values())\n",
    "print(dic.keys())"
   ]
  },
  {
   "cell_type": "code",
   "execution_count": null,
   "metadata": {},
   "outputs": [],
   "source": []
  }
 ],
 "metadata": {
  "kernelspec": {
   "display_name": "Python 3",
   "language": "python",
   "name": "python3"
  },
  "language_info": {
   "codemirror_mode": {
    "name": "ipython",
    "version": 3
   },
   "file_extension": ".py",
   "mimetype": "text/x-python",
   "name": "python",
   "nbconvert_exporter": "python",
   "pygments_lexer": "ipython3",
   "version": "3.8.3"
  }
 },
 "nbformat": 4,
 "nbformat_minor": 4
}
