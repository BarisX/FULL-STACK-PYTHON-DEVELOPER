{
 "cells": [
  {
   "cell_type": "code",
   "execution_count": 2,
   "metadata": {},
   "outputs": [],
   "source": [
    "from datetime import datetime, timedelta\n",
    "now = datetime.now()\n",
    "then = datetime(2020,5,23)"
   ]
  },
  {
   "cell_type": "code",
   "execution_count": 3,
   "metadata": {},
   "outputs": [
    {
     "name": "stdout",
     "output_type": "stream",
     "text": [
      "122\n",
      "16786\n"
     ]
    }
   ],
   "source": [
    "delta = now-then\n",
    "print(delta.days)\n",
    "# 60\n",
    "print(delta.seconds)\n",
    "# 40826"
   ]
  },
  {
   "cell_type": "code",
   "execution_count": 4,
   "metadata": {},
   "outputs": [],
   "source": [
    "def get_n_days_after_date(date_format=\"%d %B %Y\", add_days=120):\n",
    "    \n",
    "    date_n_days_after = datetime.datetime.now() + timedelta(days=add_days)\n",
    "    return date_n_days_after.strftime(date_format)\n"
   ]
  },
  {
   "cell_type": "code",
   "execution_count": 5,
   "metadata": {},
   "outputs": [],
   "source": [
    "def get_n_days_before_date(self, date_format=\"%d %B %Y\", days_before=120):\n",
    "    \n",
    "    date_n_days_ago = datetime.datetime.now() - timedelta(days=days_before)\n",
    "    return date_n_days_ago.strftime(date_format)"
   ]
  },
  {
   "cell_type": "code",
   "execution_count": 8,
   "metadata": {},
   "outputs": [
    {
     "ename": "SyntaxError",
     "evalue": "leading zeros in decimal integer literals are not permitted; use an 0o prefix for octal integers (<ipython-input-8-9570cf8d16b8>, line 5)",
     "output_type": "error",
     "traceback": [
      "\u001b[1;36m  File \u001b[1;32m\"<ipython-input-8-9570cf8d16b8>\"\u001b[1;36m, line \u001b[1;32m5\u001b[0m\n\u001b[1;33m    new_year = datetime.date(2021,01,01) # datetime.date(2021,1,1)\u001b[0m\n\u001b[1;37m                                   ^\u001b[0m\n\u001b[1;31mSyntaxError\u001b[0m\u001b[1;31m:\u001b[0m leading zeros in decimal integer literals are not permitted; use an 0o prefix for octal integers\n"
     ]
    }
   ],
   "source": [
    "import datetime\n",
    "\n",
    "# Date object\n",
    "today = datetime.date.today()\n",
    "new_year = datetime.date(2021,01,01) # datetime.date(2021,1,1)\n",
    "\n",
    "# Time object\n",
    "noon = datetime.time(12,0,0) # datetime.time(12,0)\n",
    "\n",
    "# Current datetime\n",
    "now = datetime.datetime.now()\n",
    "\n",
    "# Datetime object\n",
    "millenium_turn = datetime.datetime(2000,1,1,0,0,0) # datetime.datetime(2000,1,1,0,0)\n",
    "\n",
    "# Do this instead\n",
    "print('Time since the millenium at midnight: ',\n",
    "     datetime.datetime(today.year, today.month, today.day) - millenium_turn)\n",
    "\n",
    "# Or this\n",
    "print('Time since the millenium at noon: ',\n",
    "     datetime.datetime.combine(today, noon) - millenium_turn)\n"
   ]
  },
  {
   "cell_type": "code",
   "execution_count": 9,
   "metadata": {},
   "outputs": [
    {
     "name": "stdout",
     "output_type": "stream",
     "text": [
      "tzutc()\n",
      "tzlocal()\n"
     ]
    },
    {
     "data": {
      "text/plain": [
       "datetime.datetime(2020, 9, 22, 6, 8, 54, 59816, tzinfo=tzlocal())"
      ]
     },
     "execution_count": 9,
     "metadata": {},
     "output_type": "execute_result"
    }
   ],
   "source": [
    "\n",
    "from datetime import datetime\n",
    "from dateutil import tz\n",
    "\n",
    "utc = tz.tzutc()\n",
    "print(utc)\n",
    "local = tz.tzlocal()\n",
    "print(local)\n",
    "\n",
    "utc_now = datetime.utcnow()\n",
    "utc_now # Not timezone-aware\n",
    "\n",
    "utc_now = utc_now.replace(tzinfo=utc)\n",
    "utc_now # Timezone-aware.\n",
    "\n",
    "local_now = utc_now.astimezone(local)\n",
    "local_now # Converted to local time."
   ]
  },
  {
   "cell_type": "code",
   "execution_count": 10,
   "metadata": {},
   "outputs": [
    {
     "name": "stdout",
     "output_type": "stream",
     "text": [
      "Today: 2020-09-23\n",
      "Yesterday: 2020-09-22\n",
      "Tomorrow: 2020-09-24\n",
      "Time between tomorrow and yesterday: 2 days, 0:00:00\n"
     ]
    }
   ],
   "source": [
    "import datetime\n",
    "\n",
    "today = datetime.date.today()\n",
    "print('Today:', today)\n",
    "\n",
    "yesterday = today - datetime.timedelta(days=1)\n",
    "print('Yesterday:', yesterday)\n",
    "\n",
    "tomorrow = today + datetime.timedelta(days=1)\n",
    "print('Tomorrow:', tomorrow)\n",
    "\n",
    "print('Time between tomorrow and yesterday:', tomorrow - yesterday)\n"
   ]
  },
  {
   "cell_type": "code",
   "execution_count": null,
   "metadata": {},
   "outputs": [],
   "source": []
  }
 ],
 "metadata": {
  "kernelspec": {
   "display_name": "Python 3",
   "language": "python",
   "name": "python3"
  },
  "language_info": {
   "codemirror_mode": {
    "name": "ipython",
    "version": 3
   },
   "file_extension": ".py",
   "mimetype": "text/x-python",
   "name": "python",
   "nbconvert_exporter": "python",
   "pygments_lexer": "ipython3",
   "version": "3.8.3"
  }
 },
 "nbformat": 4,
 "nbformat_minor": 4
}
